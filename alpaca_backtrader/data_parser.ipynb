{
 "cells": [
  {
   "cell_type": "code",
   "execution_count": 1,
   "metadata": {},
   "outputs": [],
   "source": [
    "import backtrader as bt\n",
    "import pandas as pd\n",
    "import yfinance as yf"
   ]
  },
  {
   "cell_type": "code",
   "execution_count": 2,
   "metadata": {},
   "outputs": [
    {
     "data": {
      "text/html": [
       "<div>\n",
       "<style scoped>\n",
       "    .dataframe tbody tr th:only-of-type {\n",
       "        vertical-align: middle;\n",
       "    }\n",
       "\n",
       "    .dataframe tbody tr th {\n",
       "        vertical-align: top;\n",
       "    }\n",
       "\n",
       "    .dataframe thead th {\n",
       "        text-align: right;\n",
       "    }\n",
       "</style>\n",
       "<table border=\"1\" class=\"dataframe\">\n",
       "  <thead>\n",
       "    <tr style=\"text-align: right;\">\n",
       "      <th></th>\n",
       "      <th>Open</th>\n",
       "      <th>High</th>\n",
       "      <th>Low</th>\n",
       "      <th>Close</th>\n",
       "      <th>Volume</th>\n",
       "      <th>Dividends</th>\n",
       "      <th>Stock Splits</th>\n",
       "    </tr>\n",
       "    <tr>\n",
       "      <th>Datetime</th>\n",
       "      <th></th>\n",
       "      <th></th>\n",
       "      <th></th>\n",
       "      <th></th>\n",
       "      <th></th>\n",
       "      <th></th>\n",
       "      <th></th>\n",
       "    </tr>\n",
       "  </thead>\n",
       "  <tbody>\n",
       "    <tr>\n",
       "      <th>2023-01-03 09:30:00</th>\n",
       "      <td>129.770004</td>\n",
       "      <td>130.899994</td>\n",
       "      <td>125.230003</td>\n",
       "      <td>125.459999</td>\n",
       "      <td>27775505</td>\n",
       "      <td>0.0</td>\n",
       "      <td>0.0</td>\n",
       "    </tr>\n",
       "    <tr>\n",
       "      <th>2023-01-03 10:30:00</th>\n",
       "      <td>125.459999</td>\n",
       "      <td>125.870003</td>\n",
       "      <td>124.730003</td>\n",
       "      <td>125.345001</td>\n",
       "      <td>18104999</td>\n",
       "      <td>0.0</td>\n",
       "      <td>0.0</td>\n",
       "    </tr>\n",
       "    <tr>\n",
       "      <th>2023-01-03 11:30:00</th>\n",
       "      <td>125.350197</td>\n",
       "      <td>125.370003</td>\n",
       "      <td>124.349098</td>\n",
       "      <td>124.660004</td>\n",
       "      <td>11248777</td>\n",
       "      <td>0.0</td>\n",
       "      <td>0.0</td>\n",
       "    </tr>\n",
       "    <tr>\n",
       "      <th>2023-01-03 12:30:00</th>\n",
       "      <td>124.660004</td>\n",
       "      <td>124.940002</td>\n",
       "      <td>124.190002</td>\n",
       "      <td>124.649902</td>\n",
       "      <td>8860080</td>\n",
       "      <td>0.0</td>\n",
       "      <td>0.0</td>\n",
       "    </tr>\n",
       "    <tr>\n",
       "      <th>2023-01-03 13:30:00</th>\n",
       "      <td>124.669899</td>\n",
       "      <td>125.000000</td>\n",
       "      <td>124.190002</td>\n",
       "      <td>124.570000</td>\n",
       "      <td>8388062</td>\n",
       "      <td>0.0</td>\n",
       "      <td>0.0</td>\n",
       "    </tr>\n",
       "    <tr>\n",
       "      <th>...</th>\n",
       "      <td>...</td>\n",
       "      <td>...</td>\n",
       "      <td>...</td>\n",
       "      <td>...</td>\n",
       "      <td>...</td>\n",
       "      <td>...</td>\n",
       "      <td>...</td>\n",
       "    </tr>\n",
       "    <tr>\n",
       "      <th>2024-03-13 15:30:00</th>\n",
       "      <td>171.279999</td>\n",
       "      <td>171.705002</td>\n",
       "      <td>171.039993</td>\n",
       "      <td>171.169998</td>\n",
       "      <td>5993931</td>\n",
       "      <td>0.0</td>\n",
       "      <td>0.0</td>\n",
       "    </tr>\n",
       "    <tr>\n",
       "      <th>2024-03-14 09:30:00</th>\n",
       "      <td>172.380005</td>\n",
       "      <td>173.824997</td>\n",
       "      <td>172.210007</td>\n",
       "      <td>173.664993</td>\n",
       "      <td>8411095</td>\n",
       "      <td>0.0</td>\n",
       "      <td>0.0</td>\n",
       "    </tr>\n",
       "    <tr>\n",
       "      <th>2024-03-14 10:30:00</th>\n",
       "      <td>173.669998</td>\n",
       "      <td>174.307800</td>\n",
       "      <td>173.300003</td>\n",
       "      <td>173.339996</td>\n",
       "      <td>11661203</td>\n",
       "      <td>0.0</td>\n",
       "      <td>0.0</td>\n",
       "    </tr>\n",
       "    <tr>\n",
       "      <th>2024-03-14 11:30:00</th>\n",
       "      <td>173.345001</td>\n",
       "      <td>173.485001</td>\n",
       "      <td>172.404999</td>\n",
       "      <td>172.660004</td>\n",
       "      <td>4485503</td>\n",
       "      <td>0.0</td>\n",
       "      <td>0.0</td>\n",
       "    </tr>\n",
       "    <tr>\n",
       "      <th>2024-03-14 12:30:00</th>\n",
       "      <td>172.675003</td>\n",
       "      <td>173.369202</td>\n",
       "      <td>172.240005</td>\n",
       "      <td>172.675003</td>\n",
       "      <td>5095465</td>\n",
       "      <td>0.0</td>\n",
       "      <td>0.0</td>\n",
       "    </tr>\n",
       "  </tbody>\n",
       "</table>\n",
       "<p>2096 rows × 7 columns</p>\n",
       "</div>"
      ],
      "text/plain": [
       "                           Open        High         Low       Close    Volume  \\\n",
       "Datetime                                                                        \n",
       "2023-01-03 09:30:00  129.770004  130.899994  125.230003  125.459999  27775505   \n",
       "2023-01-03 10:30:00  125.459999  125.870003  124.730003  125.345001  18104999   \n",
       "2023-01-03 11:30:00  125.350197  125.370003  124.349098  124.660004  11248777   \n",
       "2023-01-03 12:30:00  124.660004  124.940002  124.190002  124.649902   8860080   \n",
       "2023-01-03 13:30:00  124.669899  125.000000  124.190002  124.570000   8388062   \n",
       "...                         ...         ...         ...         ...       ...   \n",
       "2024-03-13 15:30:00  171.279999  171.705002  171.039993  171.169998   5993931   \n",
       "2024-03-14 09:30:00  172.380005  173.824997  172.210007  173.664993   8411095   \n",
       "2024-03-14 10:30:00  173.669998  174.307800  173.300003  173.339996  11661203   \n",
       "2024-03-14 11:30:00  173.345001  173.485001  172.404999  172.660004   4485503   \n",
       "2024-03-14 12:30:00  172.675003  173.369202  172.240005  172.675003   5095465   \n",
       "\n",
       "                     Dividends  Stock Splits  \n",
       "Datetime                                      \n",
       "2023-01-03 09:30:00        0.0           0.0  \n",
       "2023-01-03 10:30:00        0.0           0.0  \n",
       "2023-01-03 11:30:00        0.0           0.0  \n",
       "2023-01-03 12:30:00        0.0           0.0  \n",
       "2023-01-03 13:30:00        0.0           0.0  \n",
       "...                        ...           ...  \n",
       "2024-03-13 15:30:00        0.0           0.0  \n",
       "2024-03-14 09:30:00        0.0           0.0  \n",
       "2024-03-14 10:30:00        0.0           0.0  \n",
       "2024-03-14 11:30:00        0.0           0.0  \n",
       "2024-03-14 12:30:00        0.0           0.0  \n",
       "\n",
       "[2096 rows x 7 columns]"
      ]
     },
     "execution_count": 2,
     "metadata": {},
     "output_type": "execute_result"
    }
   ],
   "source": [
    "stock = yf.Ticker('AAPL')\n",
    "hist = stock.history(start=\"2023-01-01\", interval=\"1h\")\n",
    "hist = pd.DataFrame(hist)\n",
    "\n",
    "# Convert to UTC\n",
    "hist.index = hist.index.tz_localize(None)\n",
    "\n",
    "hist"
   ]
  },
  {
   "cell_type": "code",
   "execution_count": 3,
   "metadata": {},
   "outputs": [],
   "source": [
    "hist.to_csv('aapl_localised.csv')"
   ]
  },
  {
   "cell_type": "code",
   "execution_count": 4,
   "metadata": {},
   "outputs": [],
   "source": [
    "aapl_localised_csv_parsed = bt.feeds.GenericCSVData(\n",
    "    dataname='aapl_localised.csv',\n",
    "    datetime=0,\n",
    "    open=1,\n",
    "    high=2,\n",
    "    low=3,\n",
    "    close=5,\n",
    "    volume=6,\n",
    "    openinterest=-1,\n",
    "    dtformat='%Y-%m-%d %H:%M:%S',\n",
    "    # timeframe=bt.TimeFrame.Minutes\n",
    ")"
   ]
  },
  {
   "cell_type": "code",
   "execution_count": 5,
   "metadata": {},
   "outputs": [],
   "source": [
    "cerebro = bt.Cerebro()"
   ]
  },
  {
   "cell_type": "code",
   "execution_count": 6,
   "metadata": {},
   "outputs": [
    {
     "data": {
      "text/plain": [
       "<backtrader.feeds.csvgeneric.GenericCSVData at 0x2bd65a9b788>"
      ]
     },
     "execution_count": 6,
     "metadata": {},
     "output_type": "execute_result"
    }
   ],
   "source": [
    "cerebro.adddata(aapl_localised_csv_parsed)"
   ]
  },
  {
   "cell_type": "code",
   "execution_count": 16,
   "metadata": {},
   "outputs": [
    {
     "data": {
      "text/plain": [
       "[[<Figure size 640x480 with 4 Axes>]]"
      ]
     },
     "execution_count": 16,
     "metadata": {},
     "output_type": "execute_result"
    }
   ],
   "source": [
    "cerebro.run()\n",
    "cerebro.plot(iplot=False)"
   ]
  }
 ],
 "metadata": {
  "kernelspec": {
   "display_name": "myenv",
   "language": "python",
   "name": "python3"
  },
  "language_info": {
   "codemirror_mode": {
    "name": "ipython",
    "version": 3
   },
   "file_extension": ".py",
   "mimetype": "text/x-python",
   "name": "python",
   "nbconvert_exporter": "python",
   "pygments_lexer": "ipython3",
   "version": "3.7.12"
  }
 },
 "nbformat": 4,
 "nbformat_minor": 2
}
