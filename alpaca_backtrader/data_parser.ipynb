{
 "cells": [
  {
   "cell_type": "code",
   "execution_count": 1,
   "metadata": {},
   "outputs": [],
   "source": [
    "import backtrader as bt\n",
    "import pandas as pd\n",
    "import yfinance as yf"
   ]
  },
  {
   "cell_type": "code",
   "execution_count": 9,
   "metadata": {},
   "outputs": [
    {
     "data": {
      "text/html": [
       "<div>\n",
       "<style scoped>\n",
       "    .dataframe tbody tr th:only-of-type {\n",
       "        vertical-align: middle;\n",
       "    }\n",
       "\n",
       "    .dataframe tbody tr th {\n",
       "        vertical-align: top;\n",
       "    }\n",
       "\n",
       "    .dataframe thead th {\n",
       "        text-align: right;\n",
       "    }\n",
       "</style>\n",
       "<table border=\"1\" class=\"dataframe\">\n",
       "  <thead>\n",
       "    <tr style=\"text-align: right;\">\n",
       "      <th></th>\n",
       "      <th>Open</th>\n",
       "      <th>High</th>\n",
       "      <th>Low</th>\n",
       "      <th>Close</th>\n",
       "      <th>Volume</th>\n",
       "      <th>Dividends</th>\n",
       "      <th>Stock Splits</th>\n",
       "    </tr>\n",
       "    <tr>\n",
       "      <th>Datetime</th>\n",
       "      <th></th>\n",
       "      <th></th>\n",
       "      <th></th>\n",
       "      <th></th>\n",
       "      <th></th>\n",
       "      <th></th>\n",
       "      <th></th>\n",
       "    </tr>\n",
       "  </thead>\n",
       "  <tbody>\n",
       "    <tr>\n",
       "      <th>2023-01-03 09:30:00</th>\n",
       "      <td>129.770004</td>\n",
       "      <td>130.899994</td>\n",
       "      <td>125.230003</td>\n",
       "      <td>125.459999</td>\n",
       "      <td>27775505</td>\n",
       "      <td>0.0</td>\n",
       "      <td>0.0</td>\n",
       "    </tr>\n",
       "    <tr>\n",
       "      <th>2023-01-03 10:30:00</th>\n",
       "      <td>125.459999</td>\n",
       "      <td>125.870003</td>\n",
       "      <td>124.730003</td>\n",
       "      <td>125.345001</td>\n",
       "      <td>18104999</td>\n",
       "      <td>0.0</td>\n",
       "      <td>0.0</td>\n",
       "    </tr>\n",
       "    <tr>\n",
       "      <th>2023-01-03 11:30:00</th>\n",
       "      <td>125.350197</td>\n",
       "      <td>125.370003</td>\n",
       "      <td>124.349098</td>\n",
       "      <td>124.660004</td>\n",
       "      <td>11248777</td>\n",
       "      <td>0.0</td>\n",
       "      <td>0.0</td>\n",
       "    </tr>\n",
       "    <tr>\n",
       "      <th>2023-01-03 12:30:00</th>\n",
       "      <td>124.660004</td>\n",
       "      <td>124.940002</td>\n",
       "      <td>124.190002</td>\n",
       "      <td>124.649902</td>\n",
       "      <td>8860080</td>\n",
       "      <td>0.0</td>\n",
       "      <td>0.0</td>\n",
       "    </tr>\n",
       "    <tr>\n",
       "      <th>2023-01-03 13:30:00</th>\n",
       "      <td>124.669899</td>\n",
       "      <td>125.000000</td>\n",
       "      <td>124.190002</td>\n",
       "      <td>124.570000</td>\n",
       "      <td>8388062</td>\n",
       "      <td>0.0</td>\n",
       "      <td>0.0</td>\n",
       "    </tr>\n",
       "    <tr>\n",
       "      <th>...</th>\n",
       "      <td>...</td>\n",
       "      <td>...</td>\n",
       "      <td>...</td>\n",
       "      <td>...</td>\n",
       "      <td>...</td>\n",
       "      <td>...</td>\n",
       "      <td>...</td>\n",
       "    </tr>\n",
       "    <tr>\n",
       "      <th>2024-03-13 15:30:00</th>\n",
       "      <td>171.279999</td>\n",
       "      <td>171.705002</td>\n",
       "      <td>171.039993</td>\n",
       "      <td>171.169998</td>\n",
       "      <td>5993931</td>\n",
       "      <td>0.0</td>\n",
       "      <td>0.0</td>\n",
       "    </tr>\n",
       "    <tr>\n",
       "      <th>2024-03-14 09:30:00</th>\n",
       "      <td>172.380005</td>\n",
       "      <td>173.824997</td>\n",
       "      <td>172.210007</td>\n",
       "      <td>173.664993</td>\n",
       "      <td>8411095</td>\n",
       "      <td>0.0</td>\n",
       "      <td>0.0</td>\n",
       "    </tr>\n",
       "    <tr>\n",
       "      <th>2024-03-14 10:30:00</th>\n",
       "      <td>173.669998</td>\n",
       "      <td>174.307800</td>\n",
       "      <td>173.300003</td>\n",
       "      <td>173.339996</td>\n",
       "      <td>11661203</td>\n",
       "      <td>0.0</td>\n",
       "      <td>0.0</td>\n",
       "    </tr>\n",
       "    <tr>\n",
       "      <th>2024-03-14 11:30:00</th>\n",
       "      <td>173.345001</td>\n",
       "      <td>173.485001</td>\n",
       "      <td>172.404999</td>\n",
       "      <td>172.660004</td>\n",
       "      <td>4485503</td>\n",
       "      <td>0.0</td>\n",
       "      <td>0.0</td>\n",
       "    </tr>\n",
       "    <tr>\n",
       "      <th>2024-03-14 12:30:00</th>\n",
       "      <td>172.675003</td>\n",
       "      <td>173.369202</td>\n",
       "      <td>172.240005</td>\n",
       "      <td>172.630005</td>\n",
       "      <td>4495479</td>\n",
       "      <td>0.0</td>\n",
       "      <td>0.0</td>\n",
       "    </tr>\n",
       "  </tbody>\n",
       "</table>\n",
       "<p>2096 rows × 7 columns</p>\n",
       "</div>"
      ],
      "text/plain": [
       "                           Open        High         Low       Close    Volume  \\\n",
       "Datetime                                                                        \n",
       "2023-01-03 09:30:00  129.770004  130.899994  125.230003  125.459999  27775505   \n",
       "2023-01-03 10:30:00  125.459999  125.870003  124.730003  125.345001  18104999   \n",
       "2023-01-03 11:30:00  125.350197  125.370003  124.349098  124.660004  11248777   \n",
       "2023-01-03 12:30:00  124.660004  124.940002  124.190002  124.649902   8860080   \n",
       "2023-01-03 13:30:00  124.669899  125.000000  124.190002  124.570000   8388062   \n",
       "...                         ...         ...         ...         ...       ...   \n",
       "2024-03-13 15:30:00  171.279999  171.705002  171.039993  171.169998   5993931   \n",
       "2024-03-14 09:30:00  172.380005  173.824997  172.210007  173.664993   8411095   \n",
       "2024-03-14 10:30:00  173.669998  174.307800  173.300003  173.339996  11661203   \n",
       "2024-03-14 11:30:00  173.345001  173.485001  172.404999  172.660004   4485503   \n",
       "2024-03-14 12:30:00  172.675003  173.369202  172.240005  172.630005   4495479   \n",
       "\n",
       "                     Dividends  Stock Splits  \n",
       "Datetime                                      \n",
       "2023-01-03 09:30:00        0.0           0.0  \n",
       "2023-01-03 10:30:00        0.0           0.0  \n",
       "2023-01-03 11:30:00        0.0           0.0  \n",
       "2023-01-03 12:30:00        0.0           0.0  \n",
       "2023-01-03 13:30:00        0.0           0.0  \n",
       "...                        ...           ...  \n",
       "2024-03-13 15:30:00        0.0           0.0  \n",
       "2024-03-14 09:30:00        0.0           0.0  \n",
       "2024-03-14 10:30:00        0.0           0.0  \n",
       "2024-03-14 11:30:00        0.0           0.0  \n",
       "2024-03-14 12:30:00        0.0           0.0  \n",
       "\n",
       "[2096 rows x 7 columns]"
      ]
     },
     "execution_count": 9,
     "metadata": {},
     "output_type": "execute_result"
    }
   ],
   "source": [
    "stock = yf.Ticker('AAPL')\n",
    "hist = stock.history(start=\"2023-01-01\", interval=\"1h\")\n",
    "hist = pd.DataFrame(hist)\n",
    "\n",
    "# Convert to UTC\n",
    "hist.index = hist.index.tz_localize(None)\n",
    "\n",
    "hist"
   ]
  },
  {
   "cell_type": "code",
   "execution_count": 3,
   "metadata": {},
   "outputs": [],
   "source": [
    "hist.to_csv('aapl_localised.csv')"
   ]
  },
  {
   "cell_type": "code",
   "execution_count": 10,
   "metadata": {},
   "outputs": [],
   "source": [
    "aapl_localised_csv_parsed = bt.feeds.GenericCSVData(\n",
    "    dataname='aapl_localised.csv',\n",
    "    datetime=0,\n",
    "    open=1,\n",
    "    high=2,\n",
    "    low=3,\n",
    "    close=5,\n",
    "    volume=6,\n",
    "    openinterest=-1,\n",
    "    dtformat='%Y-%m-%d %H:%M:%S',\n",
    "    # timeframe=bt.TimeFrame.Minutes\n",
    ")"
   ]
  },
  {
   "cell_type": "code",
   "execution_count": 16,
   "metadata": {},
   "outputs": [],
   "source": [
    "cerebro = bt.Cerebro()"
   ]
  },
  {
   "cell_type": "code",
   "execution_count": 17,
   "metadata": {},
   "outputs": [
    {
     "data": {
      "text/plain": [
       "<backtrader.feeds.csvgeneric.GenericCSVData at 0x212bc24a348>"
      ]
     },
     "execution_count": 17,
     "metadata": {},
     "output_type": "execute_result"
    }
   ],
   "source": [
    "cerebro.adddata(aapl_localised_csv_parsed)"
   ]
  },
  {
   "cell_type": "code",
   "execution_count": 22,
   "metadata": {},
   "outputs": [
    {
     "data": {
      "text/plain": [
       "[[<Figure size 640x480 with 4 Axes>]]"
      ]
     },
     "execution_count": 22,
     "metadata": {},
     "output_type": "execute_result"
    }
   ],
   "source": [
    "cerebro.run()\n",
    "cerebro.plot(iplot=False)"
   ]
  },
  {
   "cell_type": "code",
   "execution_count": 58,
   "metadata": {},
   "outputs": [
    {
     "name": "stderr",
     "output_type": "stream",
     "text": [
      "[*********************100%%**********************]  1 of 1 completed"
     ]
    },
    {
     "name": "stdout",
     "output_type": "stream",
     "text": [
      "<class 'pandas.core.frame.DataFrame'>\n"
     ]
    },
    {
     "name": "stderr",
     "output_type": "stream",
     "text": [
      "\n"
     ]
    }
   ],
   "source": [
    "# aapl_df = yf.download(\n",
    "#     tickers='AAPL', \n",
    "#     start='2023-01-01',\n",
    "#     interval='1h'\n",
    "# )\n",
    "\n",
    "# print(type(aapl_df))"
   ]
  },
  {
   "cell_type": "code",
   "execution_count": 29,
   "metadata": {},
   "outputs": [
    {
     "data": {
      "text/html": [
       "<div>\n",
       "<style scoped>\n",
       "    .dataframe tbody tr th:only-of-type {\n",
       "        vertical-align: middle;\n",
       "    }\n",
       "\n",
       "    .dataframe tbody tr th {\n",
       "        vertical-align: top;\n",
       "    }\n",
       "\n",
       "    .dataframe thead th {\n",
       "        text-align: right;\n",
       "    }\n",
       "</style>\n",
       "<table border=\"1\" class=\"dataframe\">\n",
       "  <thead>\n",
       "    <tr style=\"text-align: right;\">\n",
       "      <th></th>\n",
       "      <th>Open</th>\n",
       "      <th>High</th>\n",
       "      <th>Low</th>\n",
       "      <th>Close</th>\n",
       "      <th>Adj Close</th>\n",
       "      <th>Volume</th>\n",
       "    </tr>\n",
       "    <tr>\n",
       "      <th>Datetime</th>\n",
       "      <th></th>\n",
       "      <th></th>\n",
       "      <th></th>\n",
       "      <th></th>\n",
       "      <th></th>\n",
       "      <th></th>\n",
       "    </tr>\n",
       "  </thead>\n",
       "  <tbody>\n",
       "    <tr>\n",
       "      <th>2023-01-03 09:30:00-05:00</th>\n",
       "      <td>129.770004</td>\n",
       "      <td>130.899994</td>\n",
       "      <td>125.230003</td>\n",
       "      <td>125.459999</td>\n",
       "      <td>125.459999</td>\n",
       "      <td>27775505</td>\n",
       "    </tr>\n",
       "    <tr>\n",
       "      <th>2023-01-03 10:30:00-05:00</th>\n",
       "      <td>125.459999</td>\n",
       "      <td>125.870003</td>\n",
       "      <td>124.730003</td>\n",
       "      <td>125.345001</td>\n",
       "      <td>125.345001</td>\n",
       "      <td>18104999</td>\n",
       "    </tr>\n",
       "    <tr>\n",
       "      <th>2023-01-03 11:30:00-05:00</th>\n",
       "      <td>125.350197</td>\n",
       "      <td>125.370003</td>\n",
       "      <td>124.349098</td>\n",
       "      <td>124.660004</td>\n",
       "      <td>124.660004</td>\n",
       "      <td>11248777</td>\n",
       "    </tr>\n",
       "    <tr>\n",
       "      <th>2023-01-03 12:30:00-05:00</th>\n",
       "      <td>124.660004</td>\n",
       "      <td>124.940002</td>\n",
       "      <td>124.190002</td>\n",
       "      <td>124.649902</td>\n",
       "      <td>124.649902</td>\n",
       "      <td>8860080</td>\n",
       "    </tr>\n",
       "    <tr>\n",
       "      <th>2023-01-03 13:30:00-05:00</th>\n",
       "      <td>124.669899</td>\n",
       "      <td>125.000000</td>\n",
       "      <td>124.190002</td>\n",
       "      <td>124.570000</td>\n",
       "      <td>124.570000</td>\n",
       "      <td>8388062</td>\n",
       "    </tr>\n",
       "    <tr>\n",
       "      <th>...</th>\n",
       "      <td>...</td>\n",
       "      <td>...</td>\n",
       "      <td>...</td>\n",
       "      <td>...</td>\n",
       "      <td>...</td>\n",
       "      <td>...</td>\n",
       "    </tr>\n",
       "    <tr>\n",
       "      <th>2024-03-13 13:30:00-04:00</th>\n",
       "      <td>171.429993</td>\n",
       "      <td>171.759995</td>\n",
       "      <td>171.160004</td>\n",
       "      <td>171.580002</td>\n",
       "      <td>171.580002</td>\n",
       "      <td>3845695</td>\n",
       "    </tr>\n",
       "    <tr>\n",
       "      <th>2024-03-13 14:30:00-04:00</th>\n",
       "      <td>171.580002</td>\n",
       "      <td>171.800003</td>\n",
       "      <td>171.029999</td>\n",
       "      <td>171.279999</td>\n",
       "      <td>171.279999</td>\n",
       "      <td>4228485</td>\n",
       "    </tr>\n",
       "    <tr>\n",
       "      <th>2024-03-13 15:30:00-04:00</th>\n",
       "      <td>171.279999</td>\n",
       "      <td>171.705002</td>\n",
       "      <td>171.039993</td>\n",
       "      <td>171.169998</td>\n",
       "      <td>171.169998</td>\n",
       "      <td>5993931</td>\n",
       "    </tr>\n",
       "    <tr>\n",
       "      <th>2024-03-14 09:30:00-04:00</th>\n",
       "      <td>172.380005</td>\n",
       "      <td>173.824997</td>\n",
       "      <td>172.210007</td>\n",
       "      <td>173.664993</td>\n",
       "      <td>173.664993</td>\n",
       "      <td>8411095</td>\n",
       "    </tr>\n",
       "    <tr>\n",
       "      <th>2024-03-14 10:30:00-04:00</th>\n",
       "      <td>173.669998</td>\n",
       "      <td>174.307800</td>\n",
       "      <td>173.300003</td>\n",
       "      <td>173.649994</td>\n",
       "      <td>173.649994</td>\n",
       "      <td>10970968</td>\n",
       "    </tr>\n",
       "  </tbody>\n",
       "</table>\n",
       "<p>2094 rows × 6 columns</p>\n",
       "</div>"
      ],
      "text/plain": [
       "                                 Open        High         Low       Close  \\\n",
       "Datetime                                                                    \n",
       "2023-01-03 09:30:00-05:00  129.770004  130.899994  125.230003  125.459999   \n",
       "2023-01-03 10:30:00-05:00  125.459999  125.870003  124.730003  125.345001   \n",
       "2023-01-03 11:30:00-05:00  125.350197  125.370003  124.349098  124.660004   \n",
       "2023-01-03 12:30:00-05:00  124.660004  124.940002  124.190002  124.649902   \n",
       "2023-01-03 13:30:00-05:00  124.669899  125.000000  124.190002  124.570000   \n",
       "...                               ...         ...         ...         ...   \n",
       "2024-03-13 13:30:00-04:00  171.429993  171.759995  171.160004  171.580002   \n",
       "2024-03-13 14:30:00-04:00  171.580002  171.800003  171.029999  171.279999   \n",
       "2024-03-13 15:30:00-04:00  171.279999  171.705002  171.039993  171.169998   \n",
       "2024-03-14 09:30:00-04:00  172.380005  173.824997  172.210007  173.664993   \n",
       "2024-03-14 10:30:00-04:00  173.669998  174.307800  173.300003  173.649994   \n",
       "\n",
       "                            Adj Close    Volume  \n",
       "Datetime                                         \n",
       "2023-01-03 09:30:00-05:00  125.459999  27775505  \n",
       "2023-01-03 10:30:00-05:00  125.345001  18104999  \n",
       "2023-01-03 11:30:00-05:00  124.660004  11248777  \n",
       "2023-01-03 12:30:00-05:00  124.649902   8860080  \n",
       "2023-01-03 13:30:00-05:00  124.570000   8388062  \n",
       "...                               ...       ...  \n",
       "2024-03-13 13:30:00-04:00  171.580002   3845695  \n",
       "2024-03-13 14:30:00-04:00  171.279999   4228485  \n",
       "2024-03-13 15:30:00-04:00  171.169998   5993931  \n",
       "2024-03-14 09:30:00-04:00  173.664993   8411095  \n",
       "2024-03-14 10:30:00-04:00  173.649994  10970968  \n",
       "\n",
       "[2094 rows x 6 columns]"
      ]
     },
     "execution_count": 29,
     "metadata": {},
     "output_type": "execute_result"
    }
   ],
   "source": [
    "# aapl_df\n",
    "# aapl_df_parsed = bt.feeds.PandasData(dataname=aapl_df, datetime=None, open=0, high=1, low=2, close=4, volume=5, openinterest=-1)"
   ]
  },
  {
   "cell_type": "code",
   "execution_count": 30,
   "metadata": {},
   "outputs": [],
   "source": [
    "aapl_df.to_csv('aapl.csv')"
   ]
  },
  {
   "cell_type": "code",
   "execution_count": 49,
   "metadata": {},
   "outputs": [],
   "source": [
    "df = pd.read_csv('aapl.csv')"
   ]
  },
  {
   "cell_type": "code",
   "execution_count": 40,
   "metadata": {},
   "outputs": [],
   "source": [
    "aapl_csv_parsed = bt.feeds.GenericCSVData(\n",
    "    dataname='aapl.csv',\n",
    "    datetime=0,\n",
    "    open=1,\n",
    "    high=2,\n",
    "    low=3,\n",
    "    close=5,\n",
    "    volume=6,\n",
    "    openinterest=-1,\n",
    "    dtformat='%Y-%m-%d %H:%M:%S-%T',\n",
    "    # timeframe=bt.TimeFrame.Minutes\n",
    ")"
   ]
  },
  {
   "cell_type": "code",
   "execution_count": 37,
   "metadata": {},
   "outputs": [],
   "source": [
    "cerebro = bt.Cerebro()"
   ]
  },
  {
   "cell_type": "code",
   "execution_count": 41,
   "metadata": {},
   "outputs": [
    {
     "data": {
      "text/plain": [
       "<backtrader.feeds.csvgeneric.GenericCSVData at 0x18f6d9cef08>"
      ]
     },
     "execution_count": 41,
     "metadata": {},
     "output_type": "execute_result"
    }
   ],
   "source": [
    "cerebro.adddata(aapl_csv_parsed)"
   ]
  },
  {
   "cell_type": "code",
   "execution_count": 42,
   "metadata": {},
   "outputs": [
    {
     "ename": "ValueError",
     "evalue": "unconverted data remains: -05:00",
     "output_type": "error",
     "traceback": [
      "\u001b[1;31m---------------------------------------------------------------------------\u001b[0m",
      "\u001b[1;31mValueError\u001b[0m                                Traceback (most recent call last)",
      "\u001b[1;32m~\\AppData\\Local\\Temp\\ipykernel_9228\\4208751161.py\u001b[0m in \u001b[0;36m<module>\u001b[1;34m\u001b[0m\n\u001b[1;32m----> 1\u001b[1;33m \u001b[0mcerebro\u001b[0m\u001b[1;33m.\u001b[0m\u001b[0mrun\u001b[0m\u001b[1;33m(\u001b[0m\u001b[1;33m)\u001b[0m\u001b[1;33m\u001b[0m\u001b[1;33m\u001b[0m\u001b[0m\n\u001b[0m\u001b[0;32m      2\u001b[0m \u001b[1;33m\u001b[0m\u001b[0m\n\u001b[0;32m      3\u001b[0m \u001b[0mget_ipython\u001b[0m\u001b[1;33m(\u001b[0m\u001b[1;33m)\u001b[0m\u001b[1;33m.\u001b[0m\u001b[0mrun_line_magic\u001b[0m\u001b[1;33m(\u001b[0m\u001b[1;34m'matplotlib'\u001b[0m\u001b[1;33m,\u001b[0m \u001b[1;34m'widget'\u001b[0m\u001b[1;33m)\u001b[0m\u001b[1;33m\u001b[0m\u001b[1;33m\u001b[0m\u001b[0m\n\u001b[0;32m      4\u001b[0m \u001b[0mcerebro\u001b[0m\u001b[1;33m.\u001b[0m\u001b[0mplot\u001b[0m\u001b[1;33m(\u001b[0m\u001b[0miplot\u001b[0m\u001b[1;33m=\u001b[0m\u001b[1;32mFalse\u001b[0m\u001b[1;33m)\u001b[0m\u001b[1;33m\u001b[0m\u001b[1;33m\u001b[0m\u001b[0m\n",
      "\u001b[1;32mc:\\Users\\fuwen\\anaconda3\\envs\\myenv\\lib\\site-packages\\backtrader\\cerebro.py\u001b[0m in \u001b[0;36mrun\u001b[1;34m(self, **kwargs)\u001b[0m\n\u001b[0;32m   1125\u001b[0m             \u001b[1;31m# let's skip process \"spawning\"\u001b[0m\u001b[1;33m\u001b[0m\u001b[1;33m\u001b[0m\u001b[1;33m\u001b[0m\u001b[0m\n\u001b[0;32m   1126\u001b[0m             \u001b[1;32mfor\u001b[0m \u001b[0miterstrat\u001b[0m \u001b[1;32min\u001b[0m \u001b[0miterstrats\u001b[0m\u001b[1;33m:\u001b[0m\u001b[1;33m\u001b[0m\u001b[1;33m\u001b[0m\u001b[0m\n\u001b[1;32m-> 1127\u001b[1;33m                 \u001b[0mrunstrat\u001b[0m \u001b[1;33m=\u001b[0m \u001b[0mself\u001b[0m\u001b[1;33m.\u001b[0m\u001b[0mrunstrategies\u001b[0m\u001b[1;33m(\u001b[0m\u001b[0miterstrat\u001b[0m\u001b[1;33m)\u001b[0m\u001b[1;33m\u001b[0m\u001b[1;33m\u001b[0m\u001b[0m\n\u001b[0m\u001b[0;32m   1128\u001b[0m                 \u001b[0mself\u001b[0m\u001b[1;33m.\u001b[0m\u001b[0mrunstrats\u001b[0m\u001b[1;33m.\u001b[0m\u001b[0mappend\u001b[0m\u001b[1;33m(\u001b[0m\u001b[0mrunstrat\u001b[0m\u001b[1;33m)\u001b[0m\u001b[1;33m\u001b[0m\u001b[1;33m\u001b[0m\u001b[0m\n\u001b[0;32m   1129\u001b[0m                 \u001b[1;32mif\u001b[0m \u001b[0mself\u001b[0m\u001b[1;33m.\u001b[0m\u001b[0m_dooptimize\u001b[0m\u001b[1;33m:\u001b[0m\u001b[1;33m\u001b[0m\u001b[1;33m\u001b[0m\u001b[0m\n",
      "\u001b[1;32mc:\\Users\\fuwen\\anaconda3\\envs\\myenv\\lib\\site-packages\\backtrader\\cerebro.py\u001b[0m in \u001b[0;36mrunstrategies\u001b[1;34m(self, iterstrat, predata)\u001b[0m\n\u001b[0;32m   1210\u001b[0m                 \u001b[0mdata\u001b[0m\u001b[1;33m.\u001b[0m\u001b[0m_start\u001b[0m\u001b[1;33m(\u001b[0m\u001b[1;33m)\u001b[0m\u001b[1;33m\u001b[0m\u001b[1;33m\u001b[0m\u001b[0m\n\u001b[0;32m   1211\u001b[0m                 \u001b[1;32mif\u001b[0m \u001b[0mself\u001b[0m\u001b[1;33m.\u001b[0m\u001b[0m_dopreload\u001b[0m\u001b[1;33m:\u001b[0m\u001b[1;33m\u001b[0m\u001b[1;33m\u001b[0m\u001b[0m\n\u001b[1;32m-> 1212\u001b[1;33m                     \u001b[0mdata\u001b[0m\u001b[1;33m.\u001b[0m\u001b[0mpreload\u001b[0m\u001b[1;33m(\u001b[0m\u001b[1;33m)\u001b[0m\u001b[1;33m\u001b[0m\u001b[1;33m\u001b[0m\u001b[0m\n\u001b[0m\u001b[0;32m   1213\u001b[0m \u001b[1;33m\u001b[0m\u001b[0m\n\u001b[0;32m   1214\u001b[0m         \u001b[1;32mfor\u001b[0m \u001b[0mstratcls\u001b[0m\u001b[1;33m,\u001b[0m \u001b[0msargs\u001b[0m\u001b[1;33m,\u001b[0m \u001b[0mskwargs\u001b[0m \u001b[1;32min\u001b[0m \u001b[0miterstrat\u001b[0m\u001b[1;33m:\u001b[0m\u001b[1;33m\u001b[0m\u001b[1;33m\u001b[0m\u001b[0m\n",
      "\u001b[1;32mc:\\Users\\fuwen\\anaconda3\\envs\\myenv\\lib\\site-packages\\backtrader\\feed.py\u001b[0m in \u001b[0;36mpreload\u001b[1;34m(self)\u001b[0m\n\u001b[0;32m    686\u001b[0m \u001b[1;33m\u001b[0m\u001b[0m\n\u001b[0;32m    687\u001b[0m     \u001b[1;32mdef\u001b[0m \u001b[0mpreload\u001b[0m\u001b[1;33m(\u001b[0m\u001b[0mself\u001b[0m\u001b[1;33m)\u001b[0m\u001b[1;33m:\u001b[0m\u001b[1;33m\u001b[0m\u001b[1;33m\u001b[0m\u001b[0m\n\u001b[1;32m--> 688\u001b[1;33m         \u001b[1;32mwhile\u001b[0m \u001b[0mself\u001b[0m\u001b[1;33m.\u001b[0m\u001b[0mload\u001b[0m\u001b[1;33m(\u001b[0m\u001b[1;33m)\u001b[0m\u001b[1;33m:\u001b[0m\u001b[1;33m\u001b[0m\u001b[1;33m\u001b[0m\u001b[0m\n\u001b[0m\u001b[0;32m    689\u001b[0m             \u001b[1;32mpass\u001b[0m\u001b[1;33m\u001b[0m\u001b[1;33m\u001b[0m\u001b[0m\n\u001b[0;32m    690\u001b[0m \u001b[1;33m\u001b[0m\u001b[0m\n",
      "\u001b[1;32mc:\\Users\\fuwen\\anaconda3\\envs\\myenv\\lib\\site-packages\\backtrader\\feed.py\u001b[0m in \u001b[0;36mload\u001b[1;34m(self)\u001b[0m\n\u001b[0;32m    477\u001b[0m \u001b[1;33m\u001b[0m\u001b[0m\n\u001b[0;32m    478\u001b[0m             \u001b[1;32mif\u001b[0m \u001b[1;32mnot\u001b[0m \u001b[0mself\u001b[0m\u001b[1;33m.\u001b[0m\u001b[0m_fromstack\u001b[0m\u001b[1;33m(\u001b[0m\u001b[0mstash\u001b[0m\u001b[1;33m=\u001b[0m\u001b[1;32mTrue\u001b[0m\u001b[1;33m)\u001b[0m\u001b[1;33m:\u001b[0m\u001b[1;33m\u001b[0m\u001b[1;33m\u001b[0m\u001b[0m\n\u001b[1;32m--> 479\u001b[1;33m                 \u001b[0m_loadret\u001b[0m \u001b[1;33m=\u001b[0m \u001b[0mself\u001b[0m\u001b[1;33m.\u001b[0m\u001b[0m_load\u001b[0m\u001b[1;33m(\u001b[0m\u001b[1;33m)\u001b[0m\u001b[1;33m\u001b[0m\u001b[1;33m\u001b[0m\u001b[0m\n\u001b[0m\u001b[0;32m    480\u001b[0m                 \u001b[1;32mif\u001b[0m \u001b[1;32mnot\u001b[0m \u001b[0m_loadret\u001b[0m\u001b[1;33m:\u001b[0m  \u001b[1;31m# no bar use force to make sure in exactbars\u001b[0m\u001b[1;33m\u001b[0m\u001b[1;33m\u001b[0m\u001b[0m\n\u001b[0;32m    481\u001b[0m                     \u001b[1;31m# the pointer is undone this covers especially (but not\u001b[0m\u001b[1;33m\u001b[0m\u001b[1;33m\u001b[0m\u001b[1;33m\u001b[0m\u001b[0m\n",
      "\u001b[1;32mc:\\Users\\fuwen\\anaconda3\\envs\\myenv\\lib\\site-packages\\backtrader\\feed.py\u001b[0m in \u001b[0;36m_load\u001b[1;34m(self)\u001b[0m\n\u001b[0;32m    708\u001b[0m         \u001b[0mline\u001b[0m \u001b[1;33m=\u001b[0m \u001b[0mline\u001b[0m\u001b[1;33m.\u001b[0m\u001b[0mrstrip\u001b[0m\u001b[1;33m(\u001b[0m\u001b[1;34m'\\n'\u001b[0m\u001b[1;33m)\u001b[0m\u001b[1;33m\u001b[0m\u001b[1;33m\u001b[0m\u001b[0m\n\u001b[0;32m    709\u001b[0m         \u001b[0mlinetokens\u001b[0m \u001b[1;33m=\u001b[0m \u001b[0mline\u001b[0m\u001b[1;33m.\u001b[0m\u001b[0msplit\u001b[0m\u001b[1;33m(\u001b[0m\u001b[0mself\u001b[0m\u001b[1;33m.\u001b[0m\u001b[0mseparator\u001b[0m\u001b[1;33m)\u001b[0m\u001b[1;33m\u001b[0m\u001b[1;33m\u001b[0m\u001b[0m\n\u001b[1;32m--> 710\u001b[1;33m         \u001b[1;32mreturn\u001b[0m \u001b[0mself\u001b[0m\u001b[1;33m.\u001b[0m\u001b[0m_loadline\u001b[0m\u001b[1;33m(\u001b[0m\u001b[0mlinetokens\u001b[0m\u001b[1;33m)\u001b[0m\u001b[1;33m\u001b[0m\u001b[1;33m\u001b[0m\u001b[0m\n\u001b[0m\u001b[0;32m    711\u001b[0m \u001b[1;33m\u001b[0m\u001b[0m\n\u001b[0;32m    712\u001b[0m     \u001b[1;32mdef\u001b[0m \u001b[0m_getnextline\u001b[0m\u001b[1;33m(\u001b[0m\u001b[0mself\u001b[0m\u001b[1;33m)\u001b[0m\u001b[1;33m:\u001b[0m\u001b[1;33m\u001b[0m\u001b[1;33m\u001b[0m\u001b[0m\n",
      "\u001b[1;32mc:\\Users\\fuwen\\anaconda3\\envs\\myenv\\lib\\site-packages\\backtrader\\feeds\\csvgeneric.py\u001b[0m in \u001b[0;36m_loadline\u001b[1;34m(self, linetokens)\u001b[0m\n\u001b[0;32m    112\u001b[0m                 \u001b[0mdtformat\u001b[0m \u001b[1;33m+=\u001b[0m \u001b[1;34m'T'\u001b[0m \u001b[1;33m+\u001b[0m \u001b[0mself\u001b[0m\u001b[1;33m.\u001b[0m\u001b[0mp\u001b[0m\u001b[1;33m.\u001b[0m\u001b[0mtmformat\u001b[0m\u001b[1;33m\u001b[0m\u001b[1;33m\u001b[0m\u001b[0m\n\u001b[0;32m    113\u001b[0m \u001b[1;33m\u001b[0m\u001b[0m\n\u001b[1;32m--> 114\u001b[1;33m             \u001b[0mdt\u001b[0m \u001b[1;33m=\u001b[0m \u001b[0mdatetime\u001b[0m\u001b[1;33m.\u001b[0m\u001b[0mstrptime\u001b[0m\u001b[1;33m(\u001b[0m\u001b[0mdtfield\u001b[0m\u001b[1;33m,\u001b[0m \u001b[0mdtformat\u001b[0m\u001b[1;33m)\u001b[0m\u001b[1;33m\u001b[0m\u001b[1;33m\u001b[0m\u001b[0m\n\u001b[0m\u001b[0;32m    115\u001b[0m         \u001b[1;32melse\u001b[0m\u001b[1;33m:\u001b[0m\u001b[1;33m\u001b[0m\u001b[1;33m\u001b[0m\u001b[0m\n\u001b[0;32m    116\u001b[0m             \u001b[0mdt\u001b[0m \u001b[1;33m=\u001b[0m \u001b[0mself\u001b[0m\u001b[1;33m.\u001b[0m\u001b[0m_dtconvert\u001b[0m\u001b[1;33m(\u001b[0m\u001b[0mdtfield\u001b[0m\u001b[1;33m)\u001b[0m\u001b[1;33m\u001b[0m\u001b[1;33m\u001b[0m\u001b[0m\n",
      "\u001b[1;32mc:\\Users\\fuwen\\anaconda3\\envs\\myenv\\lib\\_strptime.py\u001b[0m in \u001b[0;36m_strptime_datetime\u001b[1;34m(cls, data_string, format)\u001b[0m\n\u001b[0;32m    575\u001b[0m     \"\"\"Return a class cls instance based on the input string and the\n\u001b[0;32m    576\u001b[0m     format string.\"\"\"\n\u001b[1;32m--> 577\u001b[1;33m     \u001b[0mtt\u001b[0m\u001b[1;33m,\u001b[0m \u001b[0mfraction\u001b[0m\u001b[1;33m,\u001b[0m \u001b[0mgmtoff_fraction\u001b[0m \u001b[1;33m=\u001b[0m \u001b[0m_strptime\u001b[0m\u001b[1;33m(\u001b[0m\u001b[0mdata_string\u001b[0m\u001b[1;33m,\u001b[0m \u001b[0mformat\u001b[0m\u001b[1;33m)\u001b[0m\u001b[1;33m\u001b[0m\u001b[1;33m\u001b[0m\u001b[0m\n\u001b[0m\u001b[0;32m    578\u001b[0m     \u001b[0mtzname\u001b[0m\u001b[1;33m,\u001b[0m \u001b[0mgmtoff\u001b[0m \u001b[1;33m=\u001b[0m \u001b[0mtt\u001b[0m\u001b[1;33m[\u001b[0m\u001b[1;33m-\u001b[0m\u001b[1;36m2\u001b[0m\u001b[1;33m:\u001b[0m\u001b[1;33m]\u001b[0m\u001b[1;33m\u001b[0m\u001b[1;33m\u001b[0m\u001b[0m\n\u001b[0;32m    579\u001b[0m     \u001b[0margs\u001b[0m \u001b[1;33m=\u001b[0m \u001b[0mtt\u001b[0m\u001b[1;33m[\u001b[0m\u001b[1;33m:\u001b[0m\u001b[1;36m6\u001b[0m\u001b[1;33m]\u001b[0m \u001b[1;33m+\u001b[0m \u001b[1;33m(\u001b[0m\u001b[0mfraction\u001b[0m\u001b[1;33m,\u001b[0m\u001b[1;33m)\u001b[0m\u001b[1;33m\u001b[0m\u001b[1;33m\u001b[0m\u001b[0m\n",
      "\u001b[1;32mc:\\Users\\fuwen\\anaconda3\\envs\\myenv\\lib\\_strptime.py\u001b[0m in \u001b[0;36m_strptime\u001b[1;34m(data_string, format)\u001b[0m\n\u001b[0;32m    360\u001b[0m     \u001b[1;32mif\u001b[0m \u001b[0mlen\u001b[0m\u001b[1;33m(\u001b[0m\u001b[0mdata_string\u001b[0m\u001b[1;33m)\u001b[0m \u001b[1;33m!=\u001b[0m \u001b[0mfound\u001b[0m\u001b[1;33m.\u001b[0m\u001b[0mend\u001b[0m\u001b[1;33m(\u001b[0m\u001b[1;33m)\u001b[0m\u001b[1;33m:\u001b[0m\u001b[1;33m\u001b[0m\u001b[1;33m\u001b[0m\u001b[0m\n\u001b[0;32m    361\u001b[0m         raise ValueError(\"unconverted data remains: %s\" %\n\u001b[1;32m--> 362\u001b[1;33m                           data_string[found.end():])\n\u001b[0m\u001b[0;32m    363\u001b[0m \u001b[1;33m\u001b[0m\u001b[0m\n\u001b[0;32m    364\u001b[0m     \u001b[0miso_year\u001b[0m \u001b[1;33m=\u001b[0m \u001b[0myear\u001b[0m \u001b[1;33m=\u001b[0m \u001b[1;32mNone\u001b[0m\u001b[1;33m\u001b[0m\u001b[1;33m\u001b[0m\u001b[0m\n",
      "\u001b[1;31mValueError\u001b[0m: unconverted data remains: -05:00"
     ]
    }
   ],
   "source": [
    "cerebro.run()\n",
    "\n",
    "%matplotlib widget\n",
    "cerebro.plot(iplot=False)"
   ]
  }
 ],
 "metadata": {
  "kernelspec": {
   "display_name": "myenv",
   "language": "python",
   "name": "python3"
  },
  "language_info": {
   "codemirror_mode": {
    "name": "ipython",
    "version": 3
   },
   "file_extension": ".py",
   "mimetype": "text/x-python",
   "name": "python",
   "nbconvert_exporter": "python",
   "pygments_lexer": "ipython3",
   "version": "3.7.12"
  }
 },
 "nbformat": 4,
 "nbformat_minor": 2
}
